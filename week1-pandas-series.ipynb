{
 "cells": [
  {
   "cell_type": "markdown",
   "id": "2dff89c7-1704-43d0-84ec-adc55f6f9bc6",
   "metadata": {},
   "source": [
    "# Pandas series and data frames\n",
    "\n",
    "### pandas.Series and pandas.DataFrame\n",
    "\n",
    "- Construct series and data frames from scratch\n",
    "- Perform simple operations\n",
    "- Navigate documentation for attributes and methods"
   ]
  },
  {
   "cell_type": "code",
   "execution_count": 1,
   "id": "ee8dfdc0-8c09-4a5a-b253-50f085c897d2",
   "metadata": {
    "tags": []
   },
   "outputs": [],
   "source": [
    "import pandas as pd\n",
    "import numpy as np"
   ]
  },
  {
   "cell_type": "code",
   "execution_count": 2,
   "id": "c63219d4-3400-4ba7-8586-38a4067e5c39",
   "metadata": {
    "tags": []
   },
   "outputs": [
    {
     "name": "stdout",
     "output_type": "stream",
     "text": [
      "<class 'numpy.ndarray'>\n",
      "[-0.78220792  0.89865437 -0.04860332  0.11535202] \n",
      "\n",
      "<class 'pandas.core.series.Series'>\n",
      "0   -0.782208\n",
      "1    0.898654\n",
      "2   -0.048603\n",
      "3    0.115352\n",
      "dtype: float64\n"
     ]
    }
   ],
   "source": [
    "# A numpy array\n",
    "arr = np.random.randn(4) # random values from std normal distribution\n",
    "print(type(arr))\n",
    "print(arr, \"\\n\")\n",
    "\n",
    "# A pandas series made from the previous array\n",
    "# The series is indexed\n",
    "s = pd.Series(arr)\n",
    "print(type(s))\n",
    "print(s)"
   ]
  },
  {
   "cell_type": "markdown",
   "id": "cf955c95-33c6-45ae-8ad5-9679b399ed8a",
   "metadata": {},
   "source": [
    "### Creating a pandas.Series"
   ]
  },
  {
   "cell_type": "markdown",
   "id": "86b4337d-fb20-4b62-bf6d-091752498944",
   "metadata": {},
   "source": [
    "s = pd.Series(data, index = index)\n",
    "\n",
    "Data can be: \n",
    "- list or NumPy array\n",
    "- Python dictionary\n",
    "- single number, boolean, or string\n",
    "\n",
    "Index parameter is optional:\n",
    "- list of indices same length as data"
   ]
  },
  {
   "cell_type": "code",
   "execution_count": 3,
   "id": "ec4e2325-6f18-435c-be44-d8fb7e07f0a2",
   "metadata": {
    "tags": []
   },
   "outputs": [
    {
     "data": {
      "text/plain": [
       "2023    0\n",
       "2024    1\n",
       "2025    2\n",
       "dtype: int64"
      ]
     },
     "execution_count": 3,
     "metadata": {},
     "output_type": "execute_result"
    }
   ],
   "source": [
    "# A series from a numpy array\n",
    "pd.Series(np.arange(3), index = [2023, 2024, 2025])"
   ]
  },
  {
   "cell_type": "code",
   "execution_count": 4,
   "id": "fd2dca09-9a52-473a-b0c0-98b21aab8eca",
   "metadata": {
    "tags": []
   },
   "outputs": [
    {
     "data": {
      "text/plain": [
       "0    EDS 220\n",
       "1    EDS 222\n",
       "2    EDS 223\n",
       "3    EDS 242\n",
       "dtype: object"
      ]
     },
     "execution_count": 4,
     "metadata": {},
     "output_type": "execute_result"
    }
   ],
   "source": [
    "# A series from a list of strings with default index\n",
    "pd.Series(['EDS 220', 'EDS 222', 'EDS 223', 'EDS 242'])"
   ]
  },
  {
   "cell_type": "markdown",
   "id": "793c1e8d-b2be-461d-81af-1fe52911d3db",
   "metadata": {},
   "source": [
    "The keys of the dictionary become the indexes in the series."
   ]
  },
  {
   "cell_type": "code",
   "execution_count": 5,
   "id": "1abb6013-4874-45e0-b859-ffb52e9c0be1",
   "metadata": {
    "tags": []
   },
   "outputs": [
    {
     "data": {
      "text/plain": [
       "key_0    2\n",
       "key_1    3\n",
       "key_2    5\n",
       "dtype: object"
      ]
     },
     "execution_count": 5,
     "metadata": {},
     "output_type": "execute_result"
    }
   ],
   "source": [
    "# Construct dictionary\n",
    "d = {'key_0':2, 'key_1':'3', 'key_2':5}\n",
    "\n",
    "# Initialize series using a dictionary\n",
    "pd.Series(d)"
   ]
  },
  {
   "cell_type": "markdown",
   "id": "b608da4d-e1c7-423d-99f3-94bc4c247025",
   "metadata": {},
   "source": [
    "If only one value is provided, we need to provide an index. The value will be repeated to match the length of the index."
   ]
  },
  {
   "cell_type": "code",
   "execution_count": 6,
   "id": "d45611d9-e230-400a-88e0-fd9bde888fb2",
   "metadata": {
    "tags": []
   },
   "outputs": [
    {
     "data": {
      "text/plain": [
       "A    3.0\n",
       "B    3.0\n",
       "C    3.0\n",
       "dtype: float64"
      ]
     },
     "execution_count": 6,
     "metadata": {},
     "output_type": "execute_result"
    }
   ],
   "source": [
    "# A series from a single value\n",
    "pd.Series(3.0, index = ['A', 'B', 'C'])"
   ]
  },
  {
   "cell_type": "markdown",
   "id": "61770675-2786-4cfd-9677-f3f7e1d543fd",
   "metadata": {},
   "source": [
    "### Simple operations\n",
    "Arithmetic operations work on series and most NumPy functions."
   ]
  },
  {
   "cell_type": "code",
   "execution_count": 7,
   "id": "88040d86-f2e1-4718-90d6-d4e6e41bd99f",
   "metadata": {
    "tags": []
   },
   "outputs": [
    {
     "name": "stdout",
     "output_type": "stream",
     "text": [
      "Andrea      9.8\n",
      "Beth        7.3\n",
      "Carolina    6.5\n",
      "dtype: float64 \n",
      "\n",
      "Andrea      3.637971e+42\n",
      "Beth        5.052394e+31\n",
      "Carolina    1.694889e+28\n",
      "dtype: float64 \n",
      "\n",
      "Andrea      98\n",
      "Beth        73\n",
      "Carolina    65\n",
      "dtype: int64\n"
     ]
    }
   ],
   "source": [
    "# Define a series\n",
    "s = pd.Series([98,73,65], index=['Andrea', 'Beth', 'Carolina'])\n",
    "\n",
    "# Divide each element in series by 10\n",
    "print(s /10, '\\n')\n",
    "\n",
    "# Take the exponential of each element in series\n",
    "print(np.exp(s), '\\n')\n",
    "\n",
    "# Orignial series is unchanged\n",
    "print(s)"
   ]
  },
  {
   "cell_type": "markdown",
   "id": "7f5703b0-72e3-4d35-be9f-3356ebb5cb38",
   "metadata": {},
   "source": [
    "We can also produce new pandas.Series with True/False values indicating whether the elements in a series satisfy a condition or not.\n",
    "- Will be useful when selecting data from data frames"
   ]
  },
  {
   "cell_type": "code",
   "execution_count": 8,
   "id": "75ee0fbc-dc80-4b3c-8b32-52cef785e430",
   "metadata": {
    "tags": []
   },
   "outputs": [
    {
     "data": {
      "text/plain": [
       "Andrea       True\n",
       "Beth         True\n",
       "Carolina    False\n",
       "dtype: bool"
      ]
     },
     "execution_count": 8,
     "metadata": {},
     "output_type": "execute_result"
    }
   ],
   "source": [
    "s > 70"
   ]
  },
  {
   "cell_type": "markdown",
   "id": "d70f5f3a-107c-4d61-81ef-a5f6856d2665",
   "metadata": {},
   "source": [
    "### Identifying missing values\n",
    "\n",
    "Can represent a missing, NULL or NA value with the float value numpy.nan, or \"not a number\"- data type is still float64."
   ]
  },
  {
   "cell_type": "code",
   "execution_count": 9,
   "id": "711cb777-2bd9-48fc-bac8-d115ae4dbe0d",
   "metadata": {
    "tags": []
   },
   "outputs": [
    {
     "data": {
      "text/plain": [
       "0    1.0\n",
       "1    2.0\n",
       "2    NaN\n",
       "3    4.0\n",
       "4    NaN\n",
       "dtype: float64"
      ]
     },
     "execution_count": 9,
     "metadata": {},
     "output_type": "execute_result"
    }
   ],
   "source": [
    "# Series with NAs in it\n",
    "s = pd.Series([1, 2, np.nan, 4, np.nan])\n",
    "s"
   ]
  },
  {
   "cell_type": "markdown",
   "id": "0eb0e829-10a4-475e-8952-3854071572df",
   "metadata": {},
   "source": [
    "The hasnans attribute for a pandas.Series returns True if there are any NA values in it and False otherwise."
   ]
  },
  {
   "cell_type": "code",
   "execution_count": 10,
   "id": "a66cc354-0ae9-42be-842d-88ec8c39f3b4",
   "metadata": {
    "tags": []
   },
   "outputs": [
    {
     "data": {
      "text/plain": [
       "True"
      ]
     },
     "execution_count": 10,
     "metadata": {},
     "output_type": "execute_result"
    }
   ],
   "source": [
    "# Check if the series has NAs\n",
    "s.hasnans"
   ]
  },
  {
   "cell_type": "code",
   "execution_count": 11,
   "id": "6b073e01-cf07-427e-8035-0e84dd70b212",
   "metadata": {
    "tags": []
   },
   "outputs": [
    {
     "data": {
      "text/plain": [
       "0    False\n",
       "1    False\n",
       "2     True\n",
       "3    False\n",
       "4     True\n",
       "dtype: bool"
      ]
     },
     "execution_count": 11,
     "metadata": {},
     "output_type": "execute_result"
    }
   ],
   "source": [
    "# Check individual elements\n",
    "s.isna()"
   ]
  },
  {
   "cell_type": "markdown",
   "id": "b4f34841-5467-4944-aa01-799c03f522bf",
   "metadata": {},
   "source": [
    "## Check-in 1: "
   ]
  },
  {
   "cell_type": "code",
   "execution_count": 26,
   "id": "91816d5e-0af0-46fb-adde-920792a83178",
   "metadata": {
    "tags": []
   },
   "outputs": [
    {
     "data": {
      "text/plain": [
       "A     10\n",
       "B   -999\n",
       "C     20\n",
       "D   -999\n",
       "dtype: int64"
      ]
     },
     "execution_count": 26,
     "metadata": {},
     "output_type": "execute_result"
    }
   ],
   "source": [
    "# Create pandas.Series \n",
    "s = pd.Series([10, -999, 20, -999], index = ['A', 'B', 'C', 'D'])\n",
    "s"
   ]
  },
  {
   "cell_type": "code",
   "execution_count": 27,
   "id": "9d1d081b-ce95-499c-8d26-e5198763cb70",
   "metadata": {
    "tags": []
   },
   "outputs": [
    {
     "data": {
      "text/plain": [
       "A    10.0\n",
       "B     NaN\n",
       "C    20.0\n",
       "D     NaN\n",
       "dtype: float64"
      ]
     },
     "execution_count": 27,
     "metadata": {},
     "output_type": "execute_result"
    }
   ],
   "source": [
    "# Update series to replace -999 values with NA values\n",
    "s.mask(s == -999)"
   ]
  },
  {
   "cell_type": "markdown",
   "id": "1fe423e9-d265-4b98-a86c-b3cbf504c2f7",
   "metadata": {},
   "source": [
    "### Data frames\n",
    "\n",
    "Each column of a pandas.DataFrame is a pandas.Series, so the data frame is a dictionary of series. Each column name is the key and the column values are the key's value."
   ]
  },
  {
   "cell_type": "code",
   "execution_count": 28,
   "id": "5287c090-fd4d-4048-b380-98fb810470b7",
   "metadata": {
    "tags": []
   },
   "outputs": [
    {
     "data": {
      "text/html": [
       "<div>\n",
       "<style scoped>\n",
       "    .dataframe tbody tr th:only-of-type {\n",
       "        vertical-align: middle;\n",
       "    }\n",
       "\n",
       "    .dataframe tbody tr th {\n",
       "        vertical-align: top;\n",
       "    }\n",
       "\n",
       "    .dataframe thead th {\n",
       "        text-align: right;\n",
       "    }\n",
       "</style>\n",
       "<table border=\"1\" class=\"dataframe\">\n",
       "  <thead>\n",
       "    <tr style=\"text-align: right;\">\n",
       "      <th></th>\n",
       "      <th>col_name_1</th>\n",
       "      <th>col_name_2</th>\n",
       "    </tr>\n",
       "  </thead>\n",
       "  <tbody>\n",
       "    <tr>\n",
       "      <th>0</th>\n",
       "      <td>0</td>\n",
       "      <td>3.1</td>\n",
       "    </tr>\n",
       "    <tr>\n",
       "      <th>1</th>\n",
       "      <td>1</td>\n",
       "      <td>3.2</td>\n",
       "    </tr>\n",
       "    <tr>\n",
       "      <th>2</th>\n",
       "      <td>2</td>\n",
       "      <td>3.3</td>\n",
       "    </tr>\n",
       "  </tbody>\n",
       "</table>\n",
       "</div>"
      ],
      "text/plain": [
       "   col_name_1  col_name_2\n",
       "0           0         3.1\n",
       "1           1         3.2\n",
       "2           2         3.3"
      ]
     },
     "execution_count": 28,
     "metadata": {},
     "output_type": "execute_result"
    }
   ],
   "source": [
    "# Initialize dictionary with columns' data\n",
    "d = {'col_name_1': pd.Series(np.arange(3)),\n",
    "    'col_name_2': pd.Series([3.1, 3.2, 3.3]),\n",
    "    }\n",
    "\n",
    "# Create data frame\n",
    "df = pd.DataFrame(d)\n",
    "df"
   ]
  },
  {
   "cell_type": "code",
   "execution_count": 29,
   "id": "3e16abf4-ca2d-4c85-8bda-4433c523ba8e",
   "metadata": {
    "tags": []
   },
   "outputs": [
    {
     "data": {
      "text/html": [
       "<div>\n",
       "<style scoped>\n",
       "    .dataframe tbody tr th:only-of-type {\n",
       "        vertical-align: middle;\n",
       "    }\n",
       "\n",
       "    .dataframe tbody tr th {\n",
       "        vertical-align: top;\n",
       "    }\n",
       "\n",
       "    .dataframe thead th {\n",
       "        text-align: right;\n",
       "    }\n",
       "</style>\n",
       "<table border=\"1\" class=\"dataframe\">\n",
       "  <thead>\n",
       "    <tr style=\"text-align: right;\">\n",
       "      <th></th>\n",
       "      <th>col_name_1</th>\n",
       "      <th>col_name_2</th>\n",
       "    </tr>\n",
       "  </thead>\n",
       "  <tbody>\n",
       "    <tr>\n",
       "      <th>a</th>\n",
       "      <td>0</td>\n",
       "      <td>3.1</td>\n",
       "    </tr>\n",
       "    <tr>\n",
       "      <th>b</th>\n",
       "      <td>1</td>\n",
       "      <td>3.2</td>\n",
       "    </tr>\n",
       "    <tr>\n",
       "      <th>c</th>\n",
       "      <td>2</td>\n",
       "      <td>3.3</td>\n",
       "    </tr>\n",
       "  </tbody>\n",
       "</table>\n",
       "</div>"
      ],
      "text/plain": [
       "   col_name_1  col_name_2\n",
       "a           0         3.1\n",
       "b           1         3.2\n",
       "c           2         3.3"
      ]
     },
     "execution_count": 29,
     "metadata": {},
     "output_type": "execute_result"
    }
   ],
   "source": [
    "# Change index\n",
    "df.index = ['a', 'b', 'c']\n",
    "df"
   ]
  },
  {
   "cell_type": "markdown",
   "id": "096734db-cb9d-487f-8551-dfefa18d164e",
   "metadata": {},
   "source": [
    "## Check-in 2:"
   ]
  },
  {
   "cell_type": "code",
   "execution_count": 31,
   "id": "db0f1fac-44d8-44ad-a512-b7fb46b302c4",
   "metadata": {
    "tags": []
   },
   "outputs": [
    {
     "data": {
      "text/html": [
       "<div>\n",
       "<style scoped>\n",
       "    .dataframe tbody tr th:only-of-type {\n",
       "        vertical-align: middle;\n",
       "    }\n",
       "\n",
       "    .dataframe tbody tr th {\n",
       "        vertical-align: top;\n",
       "    }\n",
       "\n",
       "    .dataframe thead th {\n",
       "        text-align: right;\n",
       "    }\n",
       "</style>\n",
       "<table border=\"1\" class=\"dataframe\">\n",
       "  <thead>\n",
       "    <tr style=\"text-align: right;\">\n",
       "      <th></th>\n",
       "      <th>C1</th>\n",
       "      <th>C2</th>\n",
       "    </tr>\n",
       "  </thead>\n",
       "  <tbody>\n",
       "    <tr>\n",
       "      <th>a</th>\n",
       "      <td>0</td>\n",
       "      <td>3.1</td>\n",
       "    </tr>\n",
       "    <tr>\n",
       "      <th>b</th>\n",
       "      <td>1</td>\n",
       "      <td>3.2</td>\n",
       "    </tr>\n",
       "    <tr>\n",
       "      <th>c</th>\n",
       "      <td>2</td>\n",
       "      <td>3.3</td>\n",
       "    </tr>\n",
       "  </tbody>\n",
       "</table>\n",
       "</div>"
      ],
      "text/plain": [
       "   C1   C2\n",
       "a   0  3.1\n",
       "b   1  3.2\n",
       "c   2  3.3"
      ]
     },
     "execution_count": 31,
     "metadata": {},
     "output_type": "execute_result"
    }
   ],
   "source": [
    "# Update column names to C1 and C2\n",
    "df.columns = ['C1', 'C2']\n",
    "df"
   ]
  },
  {
   "cell_type": "markdown",
   "id": "5356be14-1a31-48ac-9e94-16cf4f776a9d",
   "metadata": {},
   "source": [
    "## Lesson Summary\n",
    "\n",
    "A **pandas.Series** is a NumPy array that is indexed, and the method to create one takes a data and optional index parameter. A **pandas.DataFrame** is made up of pandas.Series columns, and can be created easily in a dictionary format where the column name is the key and the column contents are the value.\n",
    "\n",
    "The various attributes and methods of these objects can be found in the pandas documentation, such as dealing with NA values."
   ]
  }
 ],
 "metadata": {
  "kernelspec": {
   "display_name": "EDS220",
   "language": "python",
   "name": "eds220-env"
  },
  "language_info": {
   "codemirror_mode": {
    "name": "ipython",
    "version": 3
   },
   "file_extension": ".py",
   "mimetype": "text/x-python",
   "name": "python",
   "nbconvert_exporter": "python",
   "pygments_lexer": "ipython3",
   "version": "3.11.4"
  }
 },
 "nbformat": 4,
 "nbformat_minor": 5
}
