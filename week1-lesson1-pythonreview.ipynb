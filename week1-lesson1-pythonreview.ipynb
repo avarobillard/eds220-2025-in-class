{
 "cells": [
  {
   "cell_type": "markdown",
   "id": "00c060b6-2427-4588-b9f4-535685663771",
   "metadata": {},
   "source": [
    "# Python review\n",
    "\n",
    "Goals:\n",
    "- recall basic Python vocab\n",
    "- practice markdown\n",
    "\n",
    "## Libraries and packages\n",
    "\n",
    "**library**: a collection of code that we use to perform specific tasks in our programs\n",
    "\n",
    "**NumPy**:\n",
    "- core library for numerical computing in Python \n",
    "- many other libraries use NumPy arrays as building blocks\n",
    "- computations on NumPy are optimized for speed and memory usage\n",
    "\n",
    "Let's import NumPy with **standard abbreviation** "
   ]
  },
  {
   "cell_type": "code",
   "execution_count": 2,
   "id": "ff638df9-acff-4139-b2dd-7158a68a6c92",
   "metadata": {
    "tags": []
   },
   "outputs": [],
   "source": [
    "import numpy as np"
   ]
  },
  {
   "cell_type": "markdown",
   "id": "c4c4ce4a-f419-407f-83c6-13dc1f663e8c",
   "metadata": {},
   "source": [
    "## Variables\n",
    "\n",
    "**variable**: a name we assign to a particular object in Python\n",
    "\n",
    "Example:"
   ]
  },
  {
   "cell_type": "code",
   "execution_count": 3,
   "id": "17157bf7-4856-43a0-bf1f-03c31181be79",
   "metadata": {
    "tags": []
   },
   "outputs": [],
   "source": [
    "# Assign a small array to a variable a\n",
    "a = np.array([[1,1,2],[3,5,8]])"
   ]
  },
  {
   "cell_type": "code",
   "execution_count": 4,
   "id": "6435555b-3846-4c4d-9dca-d197cd95bb2b",
   "metadata": {
    "tags": []
   },
   "outputs": [
    {
     "data": {
      "text/plain": [
       "array([[1, 1, 2],\n",
       "       [3, 5, 8]])"
      ]
     },
     "execution_count": 4,
     "metadata": {},
     "output_type": "execute_result"
    }
   ],
   "source": [
    "# Run cell with the variable name to show the value\n",
    "a"
   ]
  },
  {
   "cell_type": "code",
   "execution_count": 5,
   "id": "df594a93-4d0e-42db-95c8-74d415d6d027",
   "metadata": {
    "tags": []
   },
   "outputs": [
    {
     "name": "stdout",
     "output_type": "stream",
     "text": [
      "[[1 1 2]\n",
      " [3 5 8]]\n"
     ]
    }
   ],
   "source": [
    "# Use `print` function to print the value\n",
    "print(a)"
   ]
  },
  {
   "cell_type": "markdown",
   "id": "48114084-8b9c-4954-b26e-dc2813cf2164",
   "metadata": {},
   "source": [
    "## Objects\n",
    "\n",
    "**object**: a bundle of properties and actions about something specific \n",
    "\n",
    "Example: \n",
    "\n",
    "Object: data frame\n",
    "Properties: number rows, name of columns, date created\n",
    "Actions: selecting specific row, adding a new column\n",
    "\n",
    "A variable is the name we give a specific object, and the same object can be referenced by different variables.\n",
    "\n",
    "In practice, we can often use variable and object interchangebly "
   ]
  },
  {
   "cell_type": "code",
   "execution_count": null,
   "id": "241336e1-9eb2-4797-a193-bad68f7f54e0",
   "metadata": {},
   "outputs": [],
   "source": []
  }
 ],
 "metadata": {
  "kernelspec": {
   "display_name": "EDS220",
   "language": "python",
   "name": "eds220-env"
  },
  "language_info": {
   "codemirror_mode": {
    "name": "ipython",
    "version": 3
   },
   "file_extension": ".py",
   "mimetype": "text/x-python",
   "name": "python",
   "nbconvert_exporter": "python",
   "pygments_lexer": "ipython3",
   "version": "3.11.4"
  }
 },
 "nbformat": 4,
 "nbformat_minor": 5
}
