{
 "cells": [
  {
   "cell_type": "markdown",
   "id": "00c060b6-2427-4588-b9f4-535685663771",
   "metadata": {},
   "source": [
    "# Python review\n",
    "\n",
    "Goals:\n",
    "- recall basic Python vocab\n",
    "- practice markdown\n",
    "\n",
    "## Libraries and packages\n",
    "\n",
    "**library**: a collection of code that we use to perform specific tasks in our programs\n",
    "\n",
    "**NumPy**:\n",
    "- core library for numerical computing in Python \n",
    "- many other libraries use NumPy arrays as building blocks\n",
    "- computations on NumPy are optimized for speed and memory usage\n",
    "\n",
    "Let's import NumPy with **standard abbreviation** "
   ]
  },
  {
   "cell_type": "code",
   "execution_count": 1,
   "id": "ff638df9-acff-4139-b2dd-7158a68a6c92",
   "metadata": {
    "tags": []
   },
   "outputs": [],
   "source": [
    "import numpy as np"
   ]
  },
  {
   "cell_type": "markdown",
   "id": "c4c4ce4a-f419-407f-83c6-13dc1f663e8c",
   "metadata": {},
   "source": [
    "## Variables\n",
    "\n",
    "**variable**: a name we assign to a particular object in Python\n",
    "\n",
    "Example:"
   ]
  },
  {
   "cell_type": "code",
   "execution_count": 2,
   "id": "17157bf7-4856-43a0-bf1f-03c31181be79",
   "metadata": {
    "tags": []
   },
   "outputs": [],
   "source": [
    "# Assign a small array to a variable a\n",
    "a = np.array([[1,1,2],[3,5,8]])"
   ]
  },
  {
   "cell_type": "code",
   "execution_count": 3,
   "id": "6435555b-3846-4c4d-9dca-d197cd95bb2b",
   "metadata": {
    "tags": []
   },
   "outputs": [
    {
     "data": {
      "text/plain": [
       "array([[1, 1, 2],\n",
       "       [3, 5, 8]])"
      ]
     },
     "execution_count": 3,
     "metadata": {},
     "output_type": "execute_result"
    }
   ],
   "source": [
    "# Run cell with the variable name to show the value\n",
    "a"
   ]
  },
  {
   "cell_type": "code",
   "execution_count": 4,
   "id": "df594a93-4d0e-42db-95c8-74d415d6d027",
   "metadata": {
    "tags": []
   },
   "outputs": [
    {
     "name": "stdout",
     "output_type": "stream",
     "text": [
      "[[1 1 2]\n",
      " [3 5 8]]\n"
     ]
    }
   ],
   "source": [
    "# Use `print` function to print the value\n",
    "print(a)"
   ]
  },
  {
   "cell_type": "markdown",
   "id": "48114084-8b9c-4954-b26e-dc2813cf2164",
   "metadata": {},
   "source": [
    "## Objects\n",
    "\n",
    "**object**: a bundle of properties and actions about something specific \n",
    "\n",
    "Example: \n",
    "\n",
    "Object: data frame\n",
    "Properties: number rows, name of columns, date created\n",
    "Actions: selecting specific row, adding a new column\n",
    "\n",
    "A variable is the name we give a specific object, and the same object can be referenced by different variables.\n",
    "\n",
    "In practice, we can often use variable and object interchangebly \n",
    "\n",
    "## Types\n",
    "\n",
    "Every object in Python has a **type**. The type tells us what kind of object it is. \n",
    "\n",
    "We can also call the type of an object, the **class** of an object and they both mean what kind of object we have."
   ]
  },
  {
   "cell_type": "code",
   "execution_count": 5,
   "id": "241336e1-9eb2-4797-a193-bad68f7f54e0",
   "metadata": {},
   "outputs": [
    {
     "name": "stdout",
     "output_type": "stream",
     "text": [
      "[[1 1 2]\n",
      " [3 5 8]]\n"
     ]
    },
    {
     "data": {
      "text/plain": [
       "numpy.ndarray"
      ]
     },
     "execution_count": 5,
     "metadata": {},
     "output_type": "execute_result"
    }
   ],
   "source": [
    "print(a)\n",
    "\n",
    "# Check the type/class of variable/object by using `type` function\n",
    "type(a)"
   ]
  },
  {
   "cell_type": "code",
   "execution_count": 10,
   "id": "1fa2aed4-ab42-4b0d-b841-35d74f79416c",
   "metadata": {
    "tags": []
   },
   "outputs": [
    {
     "name": "stdout",
     "output_type": "stream",
     "text": [
      "1\n",
      "5\n"
     ]
    }
   ],
   "source": [
    "# Access a number\n",
    "print(a[0,0])\n",
    "print(a[1,1])"
   ]
  },
  {
   "cell_type": "code",
   "execution_count": 8,
   "id": "d97ab6fb-683b-48e2-bbec-39113ee52aa6",
   "metadata": {
    "tags": []
   },
   "outputs": [
    {
     "data": {
      "text/plain": [
       "numpy.int64"
      ]
     },
     "execution_count": 8,
     "metadata": {},
     "output_type": "execute_result"
    }
   ],
   "source": [
    "# Check the type of an entry on the array by indexing\n",
    "type(a[0,0])"
   ]
  },
  {
   "cell_type": "markdown",
   "id": "3a83f97b-ed1a-47b3-bf3c-df19d0160e7a",
   "metadata": {},
   "source": [
    "Notice that `type(a[0,0])` is `numpy.int64` and not just the standard Python integer type. This is telling us that 1 is an integer stored as a 64-bit number."
   ]
  },
  {
   "cell_type": "markdown",
   "id": "19766c62-c667-426f-9725-92fdcc6d4139",
   "metadata": {},
   "source": [
    "## Functions\n",
    "\n",
    "`print` was our first example of a Python **function**.\n",
    "\n",
    "Functions take in a set of **arguments** and those arguments create an **output**.\n",
    "\n",
    "argument = parameter\n",
    "\n",
    "We can ask information about a function by executing `?function`"
   ]
  },
  {
   "cell_type": "code",
   "execution_count": 11,
   "id": "a71c81ab-b980-4cbd-8321-6176d9d132c3",
   "metadata": {
    "tags": []
   },
   "outputs": [
    {
     "data": {
      "text/plain": [
       "\u001b[0;31mSignature:\u001b[0m \u001b[0mprint\u001b[0m\u001b[0;34m(\u001b[0m\u001b[0;34m*\u001b[0m\u001b[0margs\u001b[0m\u001b[0;34m,\u001b[0m \u001b[0msep\u001b[0m\u001b[0;34m=\u001b[0m\u001b[0;34m' '\u001b[0m\u001b[0;34m,\u001b[0m \u001b[0mend\u001b[0m\u001b[0;34m=\u001b[0m\u001b[0;34m'\\n'\u001b[0m\u001b[0;34m,\u001b[0m \u001b[0mfile\u001b[0m\u001b[0;34m=\u001b[0m\u001b[0;32mNone\u001b[0m\u001b[0;34m,\u001b[0m \u001b[0mflush\u001b[0m\u001b[0;34m=\u001b[0m\u001b[0;32mFalse\u001b[0m\u001b[0;34m)\u001b[0m\u001b[0;34m\u001b[0m\u001b[0;34m\u001b[0m\u001b[0m\n",
       "\u001b[0;31mDocstring:\u001b[0m\n",
       "Prints the values to a stream, or to sys.stdout by default.\n",
       "\n",
       "sep\n",
       "  string inserted between values, default a space.\n",
       "end\n",
       "  string appended after the last value, default a newline.\n",
       "file\n",
       "  a file-like object (stream); defaults to the current sys.stdout.\n",
       "flush\n",
       "  whether to forcibly flush the stream.\n",
       "\u001b[0;31mType:\u001b[0m      builtin_function_or_method"
      ]
     },
     "metadata": {},
     "output_type": "display_data"
    }
   ],
   "source": [
    "?print"
   ]
  },
  {
   "cell_type": "markdown",
   "id": "cf0180f6-3e65-48c4-a771-32c7ed78f591",
   "metadata": {},
   "source": [
    "This information is a **docstring**.\n",
    "\n",
    "A function has two types of arguments:\n",
    "\n",
    "- **nonoptional argument**: argument *you* need to specify for the function to do something\n",
    "- **optional argument**: arguments that are pre-filled with a default value by the function. You can overrride them. Optional arguments appear inside the parenthesis in the form `optional_argument=default_value`"
   ]
  },
  {
   "cell_type": "code",
   "execution_count": 12,
   "id": "343b4804-5535-4fc8-92f4-15d3b0a759ce",
   "metadata": {
    "tags": []
   },
   "outputs": [
    {
     "name": "stdout",
     "output_type": "stream",
     "text": [
      "changing the default end argument:)"
     ]
    }
   ],
   "source": [
    "print('changing the default end argument', end = ':)')"
   ]
  },
  {
   "cell_type": "markdown",
   "id": "9593a2e8-9a9e-4393-a19f-f0a72c2fef9d",
   "metadata": {},
   "source": [
    "## Attributes and methods\n",
    "\n",
    "An object in Python has attributes and methods.\n",
    "\n",
    "- **attribute**: a property of an object, some piece of information about it\n",
    "- **method**: a procedure associated witht he object, an action where the main ingredient is the object\n",
    "\n",
    "## Check-in\n",
    "\n",
    "Fish attributes:\n",
    "\n",
    "- length, color, species\n",
    "\n",
    "Fish methods: \n",
    "\n",
    "- bite(), swim()\n",
    "\n",
    "**Example**\n",
    "Attributes for `numpy.arrays`\n",
    "\n",
    "We can access a variable's attributes and methods by adding a period `.` at the end of the variable's name.\n",
    "\n",
    "`variable.method()` or `variable.attribute`"
   ]
  },
  {
   "cell_type": "code",
   "execution_count": 13,
   "id": "98a2fb17-ae1c-4092-948d-ae20d3661846",
   "metadata": {
    "tags": []
   },
   "outputs": [
    {
     "data": {
      "text/plain": [
       "(2, 3)"
      ]
     },
     "execution_count": 13,
     "metadata": {},
     "output_type": "execute_result"
    }
   ],
   "source": [
    "a.shape"
   ]
  },
  {
   "cell_type": "code",
   "execution_count": 14,
   "id": "5ec138b4-b771-4fb3-95f0-0dbb9c6fefc6",
   "metadata": {
    "tags": []
   },
   "outputs": [
    {
     "data": {
      "text/plain": [
       "tuple"
      ]
     },
     "execution_count": 14,
     "metadata": {},
     "output_type": "execute_result"
    }
   ],
   "source": [
    "type(a.shape)"
   ]
  },
  {
   "cell_type": "code",
   "execution_count": 15,
   "id": "b12b52bb-0724-453d-b1ea-675bd4b58b84",
   "metadata": {
    "tags": []
   },
   "outputs": [
    {
     "data": {
      "text/plain": [
       "array([1, 1, 2])"
      ]
     },
     "execution_count": 15,
     "metadata": {},
     "output_type": "execute_result"
    }
   ],
   "source": [
    "# Methods examples\n",
    "# min() returns the minimum value along a specified axis\n",
    "a.min(axis = 0)"
   ]
  },
  {
   "cell_type": "markdown",
   "id": "4c8fdff3-50c1-4b98-84b8-2c1e3a5ff7f0",
   "metadata": {},
   "source": [
    "## Check-in\n",
    "\n",
    "We can also call the `min` method without any parameters:"
   ]
  },
  {
   "cell_type": "code",
   "execution_count": 16,
   "id": "e1c0d0be-68a8-4a5a-8ec6-7356b13f043b",
   "metadata": {
    "tags": []
   },
   "outputs": [
    {
     "data": {
      "text/plain": [
       "1"
      ]
     },
     "execution_count": 16,
     "metadata": {},
     "output_type": "execute_result"
    }
   ],
   "source": [
    "a.min()"
   ]
  },
  {
   "cell_type": "markdown",
   "id": "02a6cc76-df24-4ed6-b4a9-e5024677a5ad",
   "metadata": {},
   "source": [
    "Remember: methods are funcitons associated with an object."
   ]
  },
  {
   "cell_type": "code",
   "execution_count": 17,
   "id": "ebad87e1-40c3-4105-8738-b0a5b74ae14e",
   "metadata": {
    "tags": []
   },
   "outputs": [
    {
     "data": {
      "text/plain": [
       "builtin_function_or_method"
      ]
     },
     "execution_count": 17,
     "metadata": {},
     "output_type": "execute_result"
    }
   ],
   "source": [
    "type(a.min)"
   ]
  },
  {
   "cell_type": "markdown",
   "id": "6c2725d2-6811-433d-a08d-578feec03c9a",
   "metadata": {},
   "source": [
    "## Exercise\n",
    "\n",
    "1. Read the `print` function help. What is the type of the argument `sep`? Is this an optional or non-optional argument? Why?\n",
    "\n",
    "2. Create two new variables, one with the integer value 77 and another one with the string 99. \n",
    "\n",
    "3. Use your variables to print `77%99%77` by changing the value of one of the optional arguments in `print`."
   ]
  },
  {
   "cell_type": "code",
   "execution_count": 18,
   "id": "1bd976ae-61b9-49fb-8450-8623b1dce4ea",
   "metadata": {
    "tags": []
   },
   "outputs": [
    {
     "data": {
      "text/plain": [
       "\u001b[0;31mSignature:\u001b[0m \u001b[0mprint\u001b[0m\u001b[0;34m(\u001b[0m\u001b[0;34m*\u001b[0m\u001b[0margs\u001b[0m\u001b[0;34m,\u001b[0m \u001b[0msep\u001b[0m\u001b[0;34m=\u001b[0m\u001b[0;34m' '\u001b[0m\u001b[0;34m,\u001b[0m \u001b[0mend\u001b[0m\u001b[0;34m=\u001b[0m\u001b[0;34m'\\n'\u001b[0m\u001b[0;34m,\u001b[0m \u001b[0mfile\u001b[0m\u001b[0;34m=\u001b[0m\u001b[0;32mNone\u001b[0m\u001b[0;34m,\u001b[0m \u001b[0mflush\u001b[0m\u001b[0;34m=\u001b[0m\u001b[0;32mFalse\u001b[0m\u001b[0;34m)\u001b[0m\u001b[0;34m\u001b[0m\u001b[0;34m\u001b[0m\u001b[0m\n",
       "\u001b[0;31mDocstring:\u001b[0m\n",
       "Prints the values to a stream, or to sys.stdout by default.\n",
       "\n",
       "sep\n",
       "  string inserted between values, default a space.\n",
       "end\n",
       "  string appended after the last value, default a newline.\n",
       "file\n",
       "  a file-like object (stream); defaults to the current sys.stdout.\n",
       "flush\n",
       "  whether to forcibly flush the stream.\n",
       "\u001b[0;31mType:\u001b[0m      builtin_function_or_method"
      ]
     },
     "metadata": {},
     "output_type": "display_data"
    }
   ],
   "source": [
    "?print"
   ]
  },
  {
   "cell_type": "markdown",
   "id": "fb7ab2b3-2a1c-4f57-8e0f-3b7674b49dd7",
   "metadata": {},
   "source": [
    "`sep` is an optional argument, it runs with the default space separater if not otherwise specified."
   ]
  },
  {
   "cell_type": "code",
   "execution_count": 25,
   "id": "1df219a7-ee19-437c-b9d4-01074825ff5d",
   "metadata": {
    "tags": []
   },
   "outputs": [
    {
     "name": "stdout",
     "output_type": "stream",
     "text": [
      "77%99%77\n"
     ]
    }
   ],
   "source": [
    "i = 77\n",
    "s = '99'\n",
    "\n",
    "print(i,s,i, sep = '%')"
   ]
  },
  {
   "cell_type": "code",
   "execution_count": null,
   "id": "18c822ae-7cc3-48ad-bdbe-f8aba18dbae0",
   "metadata": {},
   "outputs": [],
   "source": []
  }
 ],
 "metadata": {
  "kernelspec": {
   "display_name": "EDS220",
   "language": "python",
   "name": "eds220-env"
  },
  "language_info": {
   "codemirror_mode": {
    "name": "ipython",
    "version": 3
   },
   "file_extension": ".py",
   "mimetype": "text/x-python",
   "name": "python",
   "nbconvert_exporter": "python",
   "pygments_lexer": "ipython3",
   "version": "3.11.4"
  }
 },
 "nbformat": 4,
 "nbformat_minor": 5
}
